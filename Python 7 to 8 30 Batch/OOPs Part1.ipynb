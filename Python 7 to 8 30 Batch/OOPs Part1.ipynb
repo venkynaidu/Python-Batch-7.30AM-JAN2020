{
 "cells": [
  {
   "cell_type": "markdown",
   "metadata": {},
   "source": [
    "### Python Object Oriented Programming(OOPs)"
   ]
  },
  {
   "cell_type": "markdown",
   "metadata": {},
   "source": [
    "### What is class?"
   ]
  },
  {
   "cell_type": "markdown",
   "metadata": {},
   "source": [
    "-> In python everything is an object . To create object we required some model or plan or Blue print, which is nothing but class"
   ]
  },
  {
   "cell_type": "markdown",
   "metadata": {},
   "source": [
    "-> We can write a class to represent properties (attributes) and actions (Behaviour) of object"
   ]
  },
  {
   "cell_type": "markdown",
   "metadata": {},
   "source": [
    "-> Properties can be represented by variables."
   ]
  },
  {
   "cell_type": "markdown",
   "metadata": {},
   "source": [
    "-> Actions can be represented by Methods."
   ]
  },
  {
   "cell_type": "markdown",
   "metadata": {},
   "source": [
    "-> Hence class contains both variables and methods."
   ]
  },
  {
   "cell_type": "markdown",
   "metadata": {},
   "source": [
    "### How to define a class?"
   ]
  },
  {
   "cell_type": "markdown",
   "metadata": {},
   "source": [
    "We can define a class by using class keyword"
   ]
  },
  {
   "cell_type": "markdown",
   "metadata": {},
   "source": [
    " Syntax:\n",
    "class className:\n",
    "    '''documentation string''' \n",
    "    variables: instance variable,static and local variables \n",
    "    methods: instance methods,static methods,class methods \n"
   ]
  },
  {
   "cell_type": "markdown",
   "metadata": {},
   "source": [
    "Documentation string represents description of the class. Within the class doc string is always optional.We can get doc string by using the following 2 ways"
   ]
  },
  {
   "cell_type": "markdown",
   "metadata": {},
   "source": [
    "1. print(Classname.__doc__)\n",
    "2. help(classname)"
   ]
  },
  {
   "cell_type": "markdown",
   "metadata": {},
   "source": [
    "Example:\n",
    "class Student:\n",
    "    '''This is student class with required data'''\n",
    "    print(Student.__doc__)\n",
    "    help(Student)"
   ]
  },
  {
   "cell_type": "code",
   "execution_count": null,
   "metadata": {},
   "outputs": [],
   "source": [
    "Within the python class we can represent data by using variables.\n",
    "There are 3 types of variables allowed.\n",
    "1. Instance variables(Object Level Variables)\n",
    "2. Static Variables (Class Level Variables)\n",
    "\n",
    "within the python class, we can represent operations by using methods.\n",
    "The following are various types of allowed methods\n",
    "\n",
    "1. Instance Methods\n",
    "2. Class Methods\n",
    "3. Static Methods\n",
    "\n",
    "\n"
   ]
  },
  {
   "cell_type": "code",
   "execution_count": 11,
   "metadata": {},
   "outputs": [],
   "source": [
    "#Example for class:\n",
    "class Student:\n",
    "    '''Developed by venky naidu by using python'''\n",
    "    def __init__(self):\n",
    "        self.name=\"Venky\"\n",
    "        self.age=29\n",
    "        self.marks=80\n",
    "    def talk(self):\n",
    "        print(\"Hello i am :\",self.name)\n",
    "        print(\"My age is :\",self.age)\n",
    "        print(\"My marks are:\",self.marks)\n",
    "        "
   ]
  },
  {
   "cell_type": "markdown",
   "metadata": {},
   "source": [
    "### What is Object:"
   ]
  },
  {
   "cell_type": "code",
   "execution_count": null,
   "metadata": {},
   "outputs": [],
   "source": [
    "Physical existance of a class is nothing but object. We can create any number of objects for a class.\n",
    "\n",
    "Syntax to create object:\n",
    "    referencevariable=classname()\n",
    "\n",
    "    Example:\n",
    "        s=Student()"
   ]
  },
  {
   "cell_type": "markdown",
   "metadata": {},
   "source": [
    "### What is Reference Variable:"
   ]
  },
  {
   "cell_type": "markdown",
   "metadata": {},
   "source": [
    "The variable which can be used to refer object is called reference variable.\n",
    "By using reference variable , we can access properties and methods of object.\n"
   ]
  },
  {
   "cell_type": "code",
   "execution_count": 15,
   "metadata": {},
   "outputs": [
    {
     "name": "stdout",
     "output_type": "stream",
     "text": [
      "Hello my name is: Venky\n",
      "My rollnumber is: 123\n",
      "My marks are: 80\n"
     ]
    }
   ],
   "source": [
    "''' Write a program to create student class and creates \n",
    "an object to it. Call the method talk() to display student details.'''\n",
    "class Student:\n",
    "    def __init__(self,name,rollno,marks):\n",
    "        self.name=name\n",
    "        self.rollno=rollno\n",
    "        self.marks=marks\n",
    "        \n",
    "    def talk(self):\n",
    "        print(\"Hello my name is:\",self.name)\n",
    "        print(\"My rollnumber is:\",self.rollno)\n",
    "        print(\"My marks are:\",self.marks)\n",
    "s1=Student(\"Venky\",123,80)\n",
    "s1.talk()"
   ]
  },
  {
   "cell_type": "markdown",
   "metadata": {},
   "source": [
    "### Self Variable:"
   ]
  },
  {
   "cell_type": "code",
   "execution_count": null,
   "metadata": {},
   "outputs": [],
   "source": [
    "self is the default variable which always pointing to current object\n",
    "(like this keyword in java)\n",
    "By using self  we can access instance variables and instance methods of object.\n",
    "\n",
    "Note:\n",
    "\n",
    "    1. self should be first parameter inside constructor\n",
    "    def __init__(self):\n",
    "    \n",
    "    2. self should be first parameter inside instance methods\n",
    "    def talk(self):\n",
    "        "
   ]
  },
  {
   "cell_type": "markdown",
   "metadata": {},
   "source": [
    "### Constructor concept:"
   ]
  },
  {
   "cell_type": "code",
   "execution_count": null,
   "metadata": {},
   "outputs": [],
   "source": [
    "1. Constructor is a special method in python\n",
    "2. The name of the constructor should be __init__(self)\n",
    "3. Constructor will be executed automatically at the time of object creation.\n",
    "4. The main purpose of constructor is to declare and initialize instance \n",
    "variables.\n",
    "5. Per object constructor will be executed only once.\n",
    "6. Constructor can be take atleast one argument (atleast self).\n",
    "7. Constructor is optional and if we are not providing any constructor then \n",
    "python will provide default constructor."
   ]
  },
  {
   "cell_type": "code",
   "execution_count": 6,
   "metadata": {},
   "outputs": [],
   "source": [
    "#Example\n",
    "def __init__(self,name,rollno,marks):\n",
    "    self.name=name\n",
    "    self.rollno=rollno\n",
    "    self.marks=marks\n",
    "    "
   ]
  },
  {
   "cell_type": "code",
   "execution_count": 18,
   "metadata": {},
   "outputs": [
    {
     "name": "stdout",
     "output_type": "stream",
     "text": [
      "Constructor execution...\n",
      "Constructor execution...\n",
      "Constructor execution...\n",
      "Method execution..\n",
      "Method execution..\n"
     ]
    }
   ],
   "source": [
    "#Program to demonistrate constructor will execute only once per object.\n",
    "class Test:\n",
    "    def __init__(self):\n",
    "        print(\"Constructor execution...\")\n",
    "    def m1(self):\n",
    "        print(\"Method execution..\")\n",
    "t1=Test()\n",
    "t1=Test()\n",
    "t3=Test()\n",
    "t1.m1()\n",
    "t1.m1()\n"
   ]
  },
  {
   "cell_type": "code",
   "execution_count": 2,
   "metadata": {},
   "outputs": [
    {
     "name": "stdout",
     "output_type": "stream",
     "text": [
      "Student Name:Venky\n",
      " Student Roll Num:101 \n",
      " Marks : 80\n",
      "Student Name:Sunny\n",
      " Student Roll Num:102 \n",
      " Marks : 90\n"
     ]
    }
   ],
   "source": [
    "#Program:\n",
    "class Student:\n",
    "    '''This is student class with required data'''\n",
    "    def __init__(self,x,y,z):\n",
    "        self.name=x\n",
    "        self.rollno=y\n",
    "        self.marks=z\n",
    "    def display(self):\n",
    "        print(\"Student Name:{}\\n Student Roll Num:{} \\n Marks : {}\".format(self.name,self.rollno,self.marks))\n",
    "        \n",
    "s1=Student(\"Venky\",101,80)\n",
    "s1.display()\n",
    "s2=Student(\"Sunny\",102,90)\n",
    "s2.display()"
   ]
  },
  {
   "cell_type": "markdown",
   "metadata": {},
   "source": [
    "### Difference between Methods and Constructors:"
   ]
  },
  {
   "cell_type": "code",
   "execution_count": null,
   "metadata": {},
   "outputs": [],
   "source": [
    "Method :\n",
    "1. Name of method can be any name\n",
    "2. Method will be executed if we call that method.\n",
    "3. Per object , Method can be called any number of times.\n",
    "4. Inside method we can write business logic.\n",
    "\n",
    "Constructor:\n",
    "1. Constructor name should be always __init__\n",
    "2. COnstructor will be executed automatically at the time of object creation.\n",
    "3. Per Object , Constructor will be executed only once.\n",
    "4. Inside Constructor we have to declare and initialize instance variables.\n"
   ]
  },
  {
   "cell_type": "markdown",
   "metadata": {},
   "source": [
    "## Types of Variables:"
   ]
  },
  {
   "cell_type": "markdown",
   "metadata": {},
   "source": [
    "Inside Python class 3 types of variables are allowed.\n",
    "1. Instance variables (Object level variables)\n",
    "2. Static Variables(Class Level Variable)\n",
    "3. Local Variables(Method Level Variable)\n"
   ]
  },
  {
   "cell_type": "markdown",
   "metadata": {},
   "source": [
    "### 1. Instance Variables:"
   ]
  },
  {
   "cell_type": "markdown",
   "metadata": {},
   "source": [
    "If the value of a variable is varied from object to object , \n",
    "then such type of variables are called instance variables.\n",
    "\n",
    "For every object a seperate copy of instance variables will be created.\n",
    "\n",
    "\n"
   ]
  },
  {
   "cell_type": "markdown",
   "metadata": {},
   "source": [
    "### Where we can declare instance variables"
   ]
  },
  {
   "cell_type": "markdown",
   "metadata": {},
   "source": [
    "1. Inside constructor by using self variable.\n",
    "2. Inside Instance Method by using self variable.\n",
    "3. Outside of the class by using object reference variable."
   ]
  },
  {
   "cell_type": "markdown",
   "metadata": {},
   "source": [
    "#### 1. Inside Constructor by using self variable:"
   ]
  },
  {
   "cell_type": "markdown",
   "metadata": {},
   "source": [
    "We can declare instance variable inside a constructor by using self keyword.\n",
    "Once we creates object , automatically these variables will be added to the object.\n"
   ]
  },
  {
   "cell_type": "code",
   "execution_count": 10,
   "metadata": {},
   "outputs": [
    {
     "name": "stdout",
     "output_type": "stream",
     "text": [
      "{'eno': 100, 'ename': 'Venky', 'esal': 10000}\n"
     ]
    }
   ],
   "source": [
    "#Example\n",
    "class Employee:\n",
    "    def __init__(self):\n",
    "        self.eno=100\n",
    "        self.ename=\"Venky\"\n",
    "        self.esal=10000\n",
    "e=Employee()\n",
    "print(e.__dict__)"
   ]
  },
  {
   "cell_type": "markdown",
   "metadata": {},
   "source": [
    "### 2. Inside Instance Method by using self variable:"
   ]
  },
  {
   "cell_type": "markdown",
   "metadata": {},
   "source": [
    "We can also declare instance variables inside instance method by using self variable. \n",
    "If any instance variable declared inside instance method, that instance variable \n",
    "will be added once we call that method."
   ]
  },
  {
   "cell_type": "code",
   "execution_count": 1,
   "metadata": {},
   "outputs": [
    {
     "name": "stdout",
     "output_type": "stream",
     "text": [
      "{'a': 10, 'b': 20, 'c': 30}\n"
     ]
    }
   ],
   "source": [
    "#Example\n",
    "class Test:\n",
    "    def __init__(self):\n",
    "        self.a=10\n",
    "        self.b=20\n",
    "        \n",
    "    def m1(self):\n",
    "        self.c=30\n",
    "t=Test()\n",
    "t.m1()\n",
    "print(t.__dict__)"
   ]
  },
  {
   "cell_type": "markdown",
   "metadata": {},
   "source": [
    "### 3. Outside of the class by using object reference variable:"
   ]
  },
  {
   "cell_type": "markdown",
   "metadata": {},
   "source": [
    "We can also add instance variables outside of a class to particular object."
   ]
  },
  {
   "cell_type": "code",
   "execution_count": 3,
   "metadata": {},
   "outputs": [
    {
     "name": "stdout",
     "output_type": "stream",
     "text": [
      "{'a': 10, 'b': 20, 'c': 30, 'd': 40}\n"
     ]
    }
   ],
   "source": [
    "class Test:\n",
    "    def __init__(self):\n",
    "        self.a=10\n",
    "        self.b=20\n",
    "    def m1(self):\n",
    "        self.c=30\n",
    "t=Test()\n",
    "t.m1()\n",
    "t.d=40\n",
    "print(t.__dict__)"
   ]
  },
  {
   "cell_type": "markdown",
   "metadata": {},
   "source": [
    "### How to access Instance Variables:"
   ]
  },
  {
   "cell_type": "markdown",
   "metadata": {},
   "source": [
    "We can access instance variables with in the class by using self variable and outside of the class by using object reference."
   ]
  },
  {
   "cell_type": "code",
   "execution_count": 5,
   "metadata": {},
   "outputs": [
    {
     "name": "stdout",
     "output_type": "stream",
     "text": [
      "10\n",
      "20\n",
      "10 20\n"
     ]
    }
   ],
   "source": [
    "class Test:\n",
    "    def __init__(self):\n",
    "        self.a=10\n",
    "        self.b=20\n",
    "    def display(self):\n",
    "        print(self.a)\n",
    "        print(self.b)\n",
    "t=Test()\n",
    "t.display()\n",
    "print(t.a,t.b)"
   ]
  },
  {
   "cell_type": "markdown",
   "metadata": {},
   "source": [
    "### How to delete instance variable from the object:"
   ]
  },
  {
   "cell_type": "markdown",
   "metadata": {},
   "source": [
    "1. Within a class we can delete instance variable as follows.\n",
    "\n",
    "del self.variableName\n",
    "\n",
    "2. From outside of class we can delete instance variables as follows\n",
    "\n",
    "del objectreference.variableName\n",
    "\n"
   ]
  },
  {
   "cell_type": "code",
   "execution_count": 6,
   "metadata": {},
   "outputs": [
    {
     "name": "stdout",
     "output_type": "stream",
     "text": [
      "{'a': 10, 'b': 20, 'c': 30, 'd': 40}\n",
      "{'a': 10, 'b': 20, 'c': 30}\n",
      "{'a': 10, 'b': 20}\n"
     ]
    }
   ],
   "source": [
    "#example\n",
    "class Test:\n",
    "    def __init__(self):\n",
    "        self.a=10\n",
    "        self.b=20\n",
    "        self.c=30\n",
    "        self.d=40\n",
    "    def m1(self):\n",
    "        del self.d\n",
    "t=Test()\n",
    "print(t.__dict__)\n",
    "t.m1()\n",
    "print(t.__dict__)\n",
    "del t.c\n",
    "print(t.__dict__)"
   ]
  },
  {
   "cell_type": "markdown",
   "metadata": {},
   "source": [
    "Note: The instance variables which are deleted from one object , will not be deleted from other objects."
   ]
  },
  {
   "cell_type": "code",
   "execution_count": 9,
   "metadata": {},
   "outputs": [
    {
     "name": "stdout",
     "output_type": "stream",
     "text": [
      "{'b': 20, 'c': 30, 'd': 40}\n",
      "{'a': 10, 'b': 20, 'c': 30, 'd': 40}\n"
     ]
    }
   ],
   "source": [
    "#Example\n",
    "class Test:\n",
    "    def __init__(self):\n",
    "        self.a=10\n",
    "        self.b=20\n",
    "        self.c=30\n",
    "        self.d=40\n",
    "        \n",
    "t1=Test()\n",
    "t2=Test()\n",
    "del t1.a\n",
    "print(t1.__dict__)\n",
    "print(t2.__dict__)"
   ]
  },
  {
   "cell_type": "markdown",
   "metadata": {},
   "source": [
    "If we can change the values of instance variables of one object then those changes won't be reflected to the remaining objects , because for every object we are seperate copy of instance variables are available."
   ]
  },
  {
   "cell_type": "code",
   "execution_count": 10,
   "metadata": {},
   "outputs": [
    {
     "name": "stdout",
     "output_type": "stream",
     "text": [
      "t1: 888 999\n",
      "t2: 10 20\n"
     ]
    }
   ],
   "source": [
    "#Example\n",
    "class Test:\n",
    "    def __init__(self):\n",
    "        self.a=10\n",
    "        self.b=20\n",
    "t1=Test()\n",
    "t1.a=888\n",
    "t1.b=999\n",
    "t2=Test()\n",
    "print('t1:',t1.a,t1.b)\n",
    "print('t2:',t2.a,t2.b)"
   ]
  },
  {
   "cell_type": "markdown",
   "metadata": {},
   "source": [
    "### 1. Static Variables:"
   ]
  },
  {
   "cell_type": "markdown",
   "metadata": {},
   "source": [
    "If the value of a variable is not varied from object, such type of variables we have to declare with in the class directly but outside of methods. Such type of variables are called static variables.\n",
    "\n",
    "For total class only one copy of static variable will be created and shared by all objets of that class.\n",
    "\n",
    "We can access static variables either by class name or by object reference . But recommeneded to use class name."
   ]
  },
  {
   "cell_type": "markdown",
   "metadata": {},
   "source": [
    "### Instance Variable vs Static Variable:"
   ]
  },
  {
   "cell_type": "markdown",
   "metadata": {},
   "source": [
    "Note: In the case of instance variables for every object a seperate copy will be created , but in the case of static variables for total class only one copy will be created and shared by every object of that class."
   ]
  },
  {
   "cell_type": "code",
   "execution_count": 11,
   "metadata": {},
   "outputs": [
    {
     "name": "stdout",
     "output_type": "stream",
     "text": [
      "t1: 10 20\n",
      "t2: 10 20\n",
      "t1: 888 999\n",
      "t2: 888 20\n"
     ]
    }
   ],
   "source": [
    "class Test:\n",
    "    x=10\n",
    "    def __init__(self):\n",
    "        self.y=20\n",
    "t1=Test()\n",
    "t2=Test()\n",
    "print('t1:',t1.x,t1.y)\n",
    "print('t2:',t2.x,t2.y)\n",
    "Test.x=888\n",
    "t1.y=999\n",
    "print('t1:',t1.x,t1.y)\n",
    "print('t2:',t2.x,t2.y)"
   ]
  },
  {
   "cell_type": "markdown",
   "metadata": {},
   "source": [
    "### Various places to declare static variables:"
   ]
  },
  {
   "cell_type": "code",
   "execution_count": null,
   "metadata": {},
   "outputs": [],
   "source": [
    "1. In general we can "
   ]
  }
 ],
 "metadata": {
  "kernelspec": {
   "display_name": "Python 3",
   "language": "python",
   "name": "python3"
  },
  "language_info": {
   "codemirror_mode": {
    "name": "ipython",
    "version": 3
   },
   "file_extension": ".py",
   "mimetype": "text/x-python",
   "name": "python",
   "nbconvert_exporter": "python",
   "pygments_lexer": "ipython3",
   "version": "3.7.4"
  }
 },
 "nbformat": 4,
 "nbformat_minor": 4
}
