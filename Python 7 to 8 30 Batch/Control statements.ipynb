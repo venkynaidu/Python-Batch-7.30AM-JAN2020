{
 "cells": [
  {
   "cell_type": "markdown",
   "metadata": {},
   "source": [
    "# if :"
   ]
  },
  {
   "cell_type": "markdown",
   "metadata": {},
   "source": [
    "syntax: \n",
    "    \n",
    "if condition:\n",
    "    --------\n",
    "    --------\n",
    "    --------\n",
    "    --------"
   ]
  },
  {
   "cell_type": "code",
   "execution_count": 1,
   "metadata": {},
   "outputs": [
    {
     "name": "stdout",
     "output_type": "stream",
     "text": [
      "+ve number\n"
     ]
    }
   ],
   "source": [
    "#Example program\n",
    "#to check the given is positive\n",
    "n=10\n",
    "if n>0:\n",
    "    print(\"+ve number\")"
   ]
  },
  {
   "cell_type": "code",
   "execution_count": 2,
   "metadata": {},
   "outputs": [],
   "source": [
    "#Example program\n",
    "#to check the given is positive\n",
    "n=-10\n",
    "if n>0:\n",
    "    print(\"+ve number\")"
   ]
  },
  {
   "cell_type": "code",
   "execution_count": 2,
   "metadata": {},
   "outputs": [
    {
     "name": "stdout",
     "output_type": "stream",
     "text": [
      "Enter name to wish:chanikya\n"
     ]
    }
   ],
   "source": [
    "#Example program\n",
    "#for wishes\n",
    "name=input(\"Enter name to wish:\")\n",
    "if name==\"venky\":\n",
    "    print(\"Hello\",name,\"Good Evening!\")"
   ]
  },
  {
   "cell_type": "markdown",
   "metadata": {},
   "source": [
    "### if else"
   ]
  },
  {
   "cell_type": "markdown",
   "metadata": {},
   "source": [
    "syntax: \n",
    "    \n",
    "if  cond:\n",
    "    -------\n",
    "    -------\n",
    "    -------\n",
    "else:\n",
    "    -------\n",
    "    -------\n",
    "    -------\n",
    "    "
   ]
  },
  {
   "cell_type": "code",
   "execution_count": 4,
   "metadata": {},
   "outputs": [
    {
     "name": "stdout",
     "output_type": "stream",
     "text": [
      "Enter name to wish:chanikya\n",
      "Hello chanikya Welcome to my world!!!\n"
     ]
    }
   ],
   "source": [
    "#example program\n",
    "name=input(\"Enter name to wish:\")\n",
    "if name==\"venky\":\n",
    "    print(\"Hello venky naidu , how are you?\")\n",
    "else:\n",
    "    print(\"Hello\",name,\"Welcome to my world!!!\")"
   ]
  },
  {
   "cell_type": "code",
   "execution_count": 13,
   "metadata": {},
   "outputs": [
    {
     "name": "stdout",
     "output_type": "stream",
     "text": [
      "Enter number to check even or odd:6\n",
      " Even number\n"
     ]
    }
   ],
   "source": [
    "# program to check the given num is even or odd\n",
    "n=int(input(\"Enter number to check even or odd:\"))\n",
    "if n%2==0:\n",
    "    print(\" Even number\")\n",
    "else:\n",
    "    print(\" odd number\")"
   ]
  },
  {
   "cell_type": "code",
   "execution_count": 1,
   "metadata": {},
   "outputs": [
    {
     "name": "stdout",
     "output_type": "stream",
     "text": [
      "Enter num to check:10.5\n",
      "+ve num\n"
     ]
    }
   ],
   "source": [
    "# check the num is +ve or not\n",
    "n=float(input(\"Enter num to check:\"))\n",
    "if n>0:\n",
    "    print(\"+ve num\")\n",
    "else:\n",
    "    print(\"-ve num\")"
   ]
  },
  {
   "cell_type": "code",
   "execution_count": 2,
   "metadata": {},
   "outputs": [
    {
     "name": "stdout",
     "output_type": "stream",
     "text": [
      "Enter a value:10\n",
      "Enter b value:20\n",
      "20 is biggest num\n"
     ]
    }
   ],
   "source": [
    "#program to check the biggest num of given two nums\n",
    "a=int(input(\"Enter a value:\"))\n",
    "b=int(input(\"Enter b value:\"))\n",
    "if a>b:\n",
    "    print(a,\"is biggest num\")\n",
    "else:\n",
    "    print(b,\"is biggest num\")"
   ]
  },
  {
   "cell_type": "markdown",
   "metadata": {},
   "source": [
    "# elif"
   ]
  },
  {
   "cell_type": "code",
   "execution_count": null,
   "metadata": {},
   "outputs": [],
   "source": [
    "syntax:\n",
    "    \n",
    "if cond1:\n",
    "    -------\n",
    "    -------\n",
    "    -------\n",
    "elif cond2:\n",
    "    -------\n",
    "    -------\n",
    "    -------\n",
    "elif cond3:\n",
    "    -------\n",
    "    -------\n",
    "    -------\n",
    "    .\n",
    "    .\n",
    "    .\n",
    "    .\n",
    "    .\n",
    "else:\n",
    "    -------\n",
    "    -------\n",
    "    -------"
   ]
  },
  {
   "cell_type": "code",
   "execution_count": 7,
   "metadata": {},
   "outputs": [
    {
     "name": "stdout",
     "output_type": "stream",
     "text": [
      "Enter a value:10\n",
      "Enter b value:10\n",
      "Enter c value:5\n",
      "10 is  biggest num\n"
     ]
    }
   ],
   "source": [
    "#program to find the biggest num of given 3 nums\n",
    "a=int(input(\"Enter a value:\"))\n",
    "b=int(input(\"Enter b value:\"))\n",
    "c=int(input(\"Enter c value:\"))\n",
    "if a>b and a>c:\n",
    "    print(a,\"is  biggest num\")\n",
    "elif b>c:\n",
    "     print(b,\"is  biggest num\")\n",
    "else:\n",
    "     print(c,\"is  biggest num\")\n"
   ]
  },
  {
   "cell_type": "code",
   "execution_count": 10,
   "metadata": {},
   "outputs": [
    {
     "name": "stdout",
     "output_type": "stream",
     "text": [
      "Enter num between 0 to 9 to convert:10\n",
      "Please enter nums between 0 to 9 only\n"
     ]
    }
   ],
   "source": [
    "#program to convert num to word\n",
    "n=int(input(\"Enter num between 0 to 9 to convert:\"))\n",
    "if n==0:\n",
    "    print(\"ZERO\")\n",
    "elif n==1:\n",
    "    print(\"ONE\")\n",
    "elif n==2:\n",
    "    print(\"TWO\")\n",
    "elif n==3:\n",
    "    print(\"THREE\")\n",
    "elif n==4:\n",
    "    print(\"FOUR\")\n",
    "elif n==5:\n",
    "    print(\"FIVE\")\n",
    "elif n==6:\n",
    "    print(\"SIX\")\n",
    "elif n==7:\n",
    "    print(\"SEVEN\")\n",
    "elif n==8:\n",
    "    print(\"EIGHT\")\n",
    "elif n==9:\n",
    "    print(\"NINE\")\n",
    "else:\n",
    "    print(\"Please enter nums between 0 to 9 only\")"
   ]
  },
  {
   "cell_type": "code",
   "execution_count": 15,
   "metadata": {},
   "outputs": [
    {
     "name": "stdout",
     "output_type": "stream",
     "text": [
      "******* WELCOME TO UBI ATM*******\n",
      "Please insert your ATM card\n",
      "Enter PIN num:8866\n",
      "WELCOME TO YOUR TRANSACTIONS\n",
      "1.WITHDRAW\n",
      "2.MINI STATEMENT\n",
      "3.BALANCE ENQUIRY\n",
      "4.PIN CHANGE\n",
      "Press the button which you want do process...4\n",
      "Please enter your old pin...8866\n",
      "Enter new pin:9966\n",
      "PIN changed succesfully....\n",
      "Your new pin is 9966 Please dont share with any one...\n"
     ]
    }
   ],
   "source": [
    "#program for ATM options and money withdraw'\n",
    "print(\"******* WELCOME TO UBI ATM*******\")\n",
    "print(\"Please insert your ATM card\")\n",
    "PIN=8866\n",
    "bal=5000\n",
    "UPIN=int(input(\"Enter PIN num:\"))\n",
    "if PIN==UPIN:\n",
    "    print(\"WELCOME TO YOUR TRANSACTIONS\")\n",
    "    print(\"1.WITHDRAW\")\n",
    "    print(\"2.MINI STATEMENT\")\n",
    "    print(\"3.BALANCE ENQUIRY\")\n",
    "    print(\"4.PIN CHANGE\")\n",
    "    x=int(input(\"Press the button which you want do process...\"))\n",
    "    if x==1:\n",
    "       \n",
    "        uamount=int(input(\" Enter amount to withdraw:\"))\n",
    "        if uamount<=bal:\n",
    "            print(\"Your transaction is in process please collect your cash..\")\n",
    "            bal=bal-uamount\n",
    "            print(\"Remaining account balance is:\",bal)\n",
    "        else:\n",
    "            print(\"Insufficient amount your account....\")\n",
    "    elif x==2:\n",
    "        print(\"Ministatement is:\",bal)\n",
    "    elif x==3:\n",
    "        print(\"Balance is:\",bal)\n",
    "    elif x==4:\n",
    "        \n",
    "        oldpin=int(input(\"Please enter your old pin...\"))\n",
    "        if oldpin==PIN:\n",
    "            newpin=int(input(\"Enter new pin:\"))\n",
    "            PIN=newpin\n",
    "            print(\"PIN changed succesfully....\")\n",
    "            print(\"Your new pin is\",PIN,\"Please dont share with any one...\")\n",
    "        else:\n",
    "            print(\"You entered wrong old  pin...Please try again\")\n",
    "    else:\n",
    "        print(\"wrong choice selection .... please try again...\")\n",
    "        \n",
    "else:\n",
    "    print(\"Wrong pin\")"
   ]
  },
  {
   "cell_type": "code",
   "execution_count": 2,
   "metadata": {},
   "outputs": [
    {
     "name": "stdout",
     "output_type": "stream",
     "text": [
      "Enter Alphabet to check:r\n",
      "Consonant\n"
     ]
    }
   ],
   "source": [
    "# program to check given alphabet is vowel or consonant\n",
    "ch=input(\"Enter Alphabet to check:\")\n",
    "if ch=='a' or ch=='e' or ch=='i' or ch=='o' or ch=='u' or ch=='A' or ch=='E' or ch=='I' or ch=='O' or ch=='U':\n",
    "    print(\"Entered alphabet is vowel\")\n",
    "else:\n",
    "    print(\"Consonant\")"
   ]
  },
  {
   "cell_type": "code",
   "execution_count": 4,
   "metadata": {},
   "outputs": [
    {
     "name": "stdout",
     "output_type": "stream",
     "text": [
      "Enter alphabet to check:S\n",
      "character is uppercase\n"
     ]
    }
   ],
   "source": [
    "#program to check the given alphabet is uppercase or lowercase\n",
    "ch=input(\"Enter alphabet to check:\")\n",
    "if ch>='a' and ch<='z':\n",
    "    print(\"character is lowercase\")\n",
    "else:\n",
    "    print(\"character is uppercase\")"
   ]
  },
  {
   "cell_type": "code",
   "execution_count": 14,
   "metadata": {},
   "outputs": [
    {
     "name": "stdout",
     "output_type": "stream",
     "text": [
      "enter character to check:0\n",
      "Entered character is number \n"
     ]
    }
   ],
   "source": [
    "#program to check the given character is numbr or alphabet\n",
    "ch=input(\"enter character to check:\")\n",
    "if ch>='0' and ch<='9':\n",
    "    print(\"Entered character is number \")\n",
    "elif (ch>='a' and ch<='z')or(ch>='A' and ch<='Z'):\n",
    "    print(\"Character is alphabet\")\n",
    "else:\n",
    "    print(\"Entered character is special character\")\n",
    "    "
   ]
  },
  {
   "cell_type": "code",
   "execution_count": 1,
   "metadata": {},
   "outputs": [
    {
     "name": "stdout",
     "output_type": "stream",
     "text": [
      "35\n"
     ]
    }
   ],
   "source": [
    "import keyword\n",
    "print(len(keyword.kwlist))"
   ]
  },
  {
   "cell_type": "code",
   "execution_count": null,
   "metadata": {},
   "outputs": [],
   "source": [
    "#program to check the gmail credentials\n",
    "mail=\"venkynaidub@gmail.com\"\n",
    "pswd=\"venky@123\"\n",
    "umail=input(\"Enter mail id:\")\n",
    "if mail==umail:\n",
    "    \n",
    "    upswrd=input(\"Enter pswrd:\")\n",
    "    if upswrd==pswd:\n",
    "        print(\"Your account loggedin successfully....\")\n",
    "    else:\n",
    "        print(\"Wrong password...\")\n",
    "else:\n",
    "    print(\"Couldn't find mail id in database....\")\n",
    "    "
   ]
  },
  {
   "cell_type": "markdown",
   "metadata": {},
   "source": [
    "# for loop"
   ]
  },
  {
   "cell_type": "code",
   "execution_count": null,
   "metadata": {},
   "outputs": [],
   "source": [
    "syntax:\n",
    "    \n",
    "for variable in sequance:\n",
    "    --------------\n",
    "    --------------\n",
    "    --------------"
   ]
  },
  {
   "cell_type": "code",
   "execution_count": 1,
   "metadata": {},
   "outputs": [
    {
     "name": "stdout",
     "output_type": "stream",
     "text": [
      "Venky Naidu\n",
      "Venky Naidu\n",
      "Venky Naidu\n",
      "Venky Naidu\n",
      "Venky Naidu\n",
      "Venky Naidu\n",
      "Venky Naidu\n",
      "Venky Naidu\n",
      "Venky Naidu\n",
      "Venky Naidu\n"
     ]
    }
   ],
   "source": [
    "#program to print your name 10 times using for loop\n",
    "for i in range(10):\n",
    "    print(\"Venky Naidu\")"
   ]
  },
  {
   "cell_type": "code",
   "execution_count": 2,
   "metadata": {},
   "outputs": [
    {
     "name": "stdout",
     "output_type": "stream",
     "text": [
      "0\n",
      "1\n",
      "2\n",
      "3\n",
      "4\n",
      "5\n",
      "6\n",
      "7\n",
      "8\n",
      "9\n",
      "10\n"
     ]
    }
   ],
   "source": [
    "#program to print numbers from 0 to  10  using for loop\n",
    "for i in range(11):\n",
    "    print(i)"
   ]
  },
  {
   "cell_type": "code",
   "execution_count": 4,
   "metadata": {},
   "outputs": [
    {
     "name": "stdout",
     "output_type": "stream",
     "text": [
      "10\n",
      "9\n",
      "8\n",
      "7\n",
      "6\n",
      "5\n",
      "4\n",
      "3\n",
      "2\n",
      "1\n"
     ]
    }
   ],
   "source": [
    "#program to print numbers from 10 to 0  using for loop\n",
    "j=10\n",
    "for i in range(10):\n",
    "    if j>=0:\n",
    "        print(j)\n",
    "        j=j-1\n",
    "    "
   ]
  },
  {
   "cell_type": "code",
   "execution_count": 5,
   "metadata": {},
   "outputs": [
    {
     "name": "stdout",
     "output_type": "stream",
     "text": [
      "B\n",
      "a\n",
      "l\n",
      "a\n",
      "y\n",
      "y\n",
      "a\n",
      " \n",
      "M\n",
      "a\n",
      "m\n",
      "a\n"
     ]
    }
   ],
   "source": [
    "#program to print the characters in given string\n",
    "s=\"Balayya Mama\"\n",
    "for i in s:\n",
    "    print(i)\n",
    "    "
   ]
  },
  {
   "cell_type": "code",
   "execution_count": 1,
   "metadata": {},
   "outputs": [
    {
     "name": "stdout",
     "output_type": "stream",
     "text": [
      "6\n",
      "8\n",
      "10\n",
      "12\n",
      "14\n",
      "16\n",
      "18\n",
      "20\n",
      "22\n",
      "24\n",
      "26\n",
      "28\n",
      "30\n",
      "32\n",
      "34\n",
      "36\n",
      "38\n",
      "40\n",
      "42\n",
      "44\n",
      "46\n",
      "48\n",
      "50\n",
      "52\n",
      "54\n",
      "56\n",
      "58\n",
      "60\n",
      "62\n",
      "64\n",
      "66\n",
      "68\n",
      "70\n",
      "72\n",
      "74\n",
      "76\n",
      "78\n",
      "80\n",
      "82\n",
      "84\n",
      "86\n",
      "88\n",
      "90\n",
      "92\n",
      "94\n",
      "96\n",
      "98\n",
      "100\n"
     ]
    }
   ],
   "source": [
    "#program to print even numbers between 5 to 100\n",
    "for i in range(5,101):\n",
    "    if i%2==0:\n",
    "        print(i)\n"
   ]
  },
  {
   "cell_type": "code",
   "execution_count": 5,
   "metadata": {},
   "outputs": [
    {
     "name": "stdout",
     "output_type": "stream",
     "text": [
      "6\n",
      "8\n",
      "10\n",
      "12\n",
      "14\n",
      "16\n",
      "18\n",
      "20\n",
      "22\n",
      "24\n",
      "26\n",
      "28\n",
      "30\n",
      "32\n",
      "34\n",
      "36\n",
      "38\n",
      "40\n",
      "42\n",
      "44\n",
      "46\n",
      "48\n",
      "50\n",
      "52\n",
      "54\n",
      "56\n",
      "58\n",
      "60\n",
      "62\n",
      "64\n",
      "66\n",
      "68\n",
      "70\n",
      "72\n",
      "74\n",
      "76\n",
      "78\n",
      "80\n",
      "82\n",
      "84\n",
      "86\n",
      "88\n",
      "90\n",
      "92\n",
      "94\n",
      "96\n",
      "98\n",
      "100\n"
     ]
    }
   ],
   "source": [
    "#program to print even numbers between 5 to 100\n",
    "for i in range(6,101,2):\n",
    "    print(i)\n",
    "    \n"
   ]
  },
  {
   "cell_type": "code",
   "execution_count": 6,
   "metadata": {},
   "outputs": [
    {
     "name": "stdout",
     "output_type": "stream",
     "text": [
      "5\n",
      "7\n",
      "9\n",
      "11\n",
      "13\n",
      "15\n",
      "17\n",
      "19\n",
      "21\n",
      "23\n",
      "25\n",
      "27\n",
      "29\n",
      "31\n",
      "33\n",
      "35\n",
      "37\n",
      "39\n",
      "41\n",
      "43\n",
      "45\n",
      "47\n",
      "49\n",
      "51\n",
      "53\n",
      "55\n",
      "57\n",
      "59\n",
      "61\n",
      "63\n",
      "65\n",
      "67\n",
      "69\n",
      "71\n",
      "73\n",
      "75\n",
      "77\n",
      "79\n",
      "81\n",
      "83\n",
      "85\n",
      "87\n",
      "89\n",
      "91\n",
      "93\n",
      "95\n",
      "97\n",
      "99\n"
     ]
    }
   ],
   "source": [
    "#program to print even numbers between 5 to 100\n",
    "for i in range(5,101):\n",
    "    if i%2!=0:\n",
    "        print(i)"
   ]
  },
  {
   "cell_type": "code",
   "execution_count": 8,
   "metadata": {},
   "outputs": [
    {
     "name": "stdout",
     "output_type": "stream",
     "text": [
      "number of vowels in given string is: 8\n"
     ]
    }
   ],
   "source": [
    "#program to print num of vowel nums in given string\n",
    "s=\"venky naidu balineni\"\n",
    "count=0\n",
    "for i in s:\n",
    "    if i==\"a\" or i==\"e\" or i==\"i\" or i==\"o\" or i==\"u\":\n",
    "        count=count+1\n",
    "\n",
    "print(\"number of vowels in given string is:\",count)"
   ]
  },
  {
   "cell_type": "code",
   "execution_count": 9,
   "metadata": {},
   "outputs": [
    {
     "name": "stdout",
     "output_type": "stream",
     "text": [
      "Number of uppercase characters in given string is: 5\n",
      "Number of lowercase characters in given string is: 13\n"
     ]
    }
   ],
   "source": [
    "#program to print num of uppercase and lowercase letters in given string\n",
    "s=\"venky NAIDU balineni\"\n",
    "ucount=0\n",
    "lcount=0\n",
    "for i in s:\n",
    "    if i>='a' and i<='z':\n",
    "        lcount=lcount+1\n",
    "    elif i>='A' and i<='Z':\n",
    "        ucount=ucount+1\n",
    "\n",
    "\n",
    "print(\"Number of uppercase characters in given string is:\",ucount)\n",
    "print(\"Number of lowercase characters in given string is:\",lcount)\n",
    "\n",
    "\n"
   ]
  },
  {
   "cell_type": "code",
   "execution_count": 16,
   "metadata": {},
   "outputs": [
    {
     "name": "stdout",
     "output_type": "stream",
     "text": [
      "Enter pswrd:VENKY\n",
      "missing lowercase\n",
      "missing numbers\n",
      "missing special character\n"
     ]
    }
   ],
   "source": [
    "#program to check the pswrd requirements \n",
    "# 1. Uppercase letters\n",
    "# 2. Lowercase letters\n",
    "# 3. Numbers\n",
    "# 4. special characters\n",
    "psw=input(\"Enter pswrd:\")\n",
    "\n",
    "ucount=0\n",
    "lcount=0\n",
    "ncount=0\n",
    "scount=0\n",
    "for i in psw:\n",
    "    if i>='a' and i<='z':\n",
    "        lcount=lcount+1\n",
    "    elif i>='A' and i<='Z':\n",
    "        ucount=ucount+1\n",
    "    elif i>='0' and i<='9':\n",
    "        ncount=ncount+1\n",
    "    else:\n",
    "        scount=scount+1\n",
    "        \n",
    "if ucount>0:\n",
    "    pass\n",
    "else:\n",
    "    print(\"missing uppercase\")\n",
    "if lcount>0:\n",
    "    pass\n",
    "else:\n",
    "    print(\"missing lowercase\")\n",
    "if ncount>0:\n",
    "    pass\n",
    "else:\n",
    "    print(\"missing numbers\")\n",
    "if scount>0:\n",
    "    pass\n",
    "else:\n",
    "    print(\"missing special character\")\n",
    "    \n"
   ]
  },
  {
   "cell_type": "markdown",
   "metadata": {},
   "source": [
    "### Nested for loop:"
   ]
  },
  {
   "cell_type": "code",
   "execution_count": null,
   "metadata": {},
   "outputs": [],
   "source": [
    "syntax: \n",
    "\n",
    "for i in seq1:\n",
    "    for j in seq2:\n",
    "        print(\"\")"
   ]
  },
  {
   "cell_type": "code",
   "execution_count": 26,
   "metadata": {},
   "outputs": [
    {
     "name": "stdout",
     "output_type": "stream",
     "text": [
      "* * * * \n",
      "* * * * \n",
      "* * * * \n",
      "* * * * \n"
     ]
    }
   ],
   "source": [
    "#example program for nested for loops\n",
    "for i in range(4):\n",
    "    for j in range(4):\n",
    "        print(\"*\",end=\" \")\n",
    "    print()"
   ]
  },
  {
   "cell_type": "code",
   "execution_count": 27,
   "metadata": {},
   "outputs": [
    {
     "name": "stdout",
     "output_type": "stream",
     "text": [
      "0 1 2 3 \n",
      "0 1 2 3 \n",
      "0 1 2 3 \n",
      "0 1 2 3 \n"
     ]
    }
   ],
   "source": [
    "#example program for nested for loops\n",
    "for i in range(4):\n",
    "    for j in range(4):\n",
    "        print(j,end=\" \")\n",
    "    print()"
   ]
  },
  {
   "cell_type": "code",
   "execution_count": 24,
   "metadata": {},
   "outputs": [
    {
     "name": "stdout",
     "output_type": "stream",
     "text": [
      "0 0 0 0 \n",
      "1 1 1 1 \n",
      "2 2 2 2 \n",
      "3 3 3 3 \n"
     ]
    }
   ],
   "source": [
    "#example program for nested for loops\n",
    "for i in range(4):\n",
    "    for j in range(4):\n",
    "        print(i,end=\" \")\n",
    "    print()"
   ]
  },
  {
   "cell_type": "code",
   "execution_count": 30,
   "metadata": {},
   "outputs": [
    {
     "ename": "SyntaxError",
     "evalue": "invalid syntax (<ipython-input-30-65d512e147e9>, line 2)",
     "output_type": "error",
     "traceback": [
      "\u001b[1;36m  File \u001b[1;32m\"<ipython-input-30-65d512e147e9>\"\u001b[1;36m, line \u001b[1;32m2\u001b[0m\n\u001b[1;33m    A A A A\u001b[0m\n\u001b[1;37m      ^\u001b[0m\n\u001b[1;31mSyntaxError\u001b[0m\u001b[1;31m:\u001b[0m invalid syntax\n"
     ]
    }
   ],
   "source": [
    "#1\n",
    "A A A A\n",
    "B B B B \n",
    "C C C C\n",
    "D D D D\n",
    "\n",
    "#2\n",
    "A B C D\n",
    "A B C D\n",
    "A B C D\n",
    "A B C D\n",
    "\n",
    "#3\n",
    "A B C D\n",
    "E F G H\n",
    "I J K L\n",
    "M N O P\n",
    "\n"
   ]
  },
  {
   "cell_type": "code",
   "execution_count": 16,
   "metadata": {},
   "outputs": [
    {
     "name": "stdout",
     "output_type": "stream",
     "text": [
      "A B C D E \n",
      "F G H I J \n",
      "K L M N O \n",
      "P R S T U \n"
     ]
    }
   ],
   "source": [
    "ch=\"ABCDEFGHIJKLMNOPRSTU\"\n",
    "k=0\n",
    "for i in range(4):\n",
    "    for j in range(5):\n",
    "        print(ch[k], end=\" \")\n",
    "        k=k+1\n",
    "        \n",
    "    print()"
   ]
  },
  {
   "cell_type": "code",
   "execution_count": 19,
   "metadata": {},
   "outputs": [
    {
     "name": "stdout",
     "output_type": "stream",
     "text": [
      "* \n",
      "* * \n",
      "* * * \n",
      "* * * * \n",
      "* * * * * \n"
     ]
    }
   ],
   "source": [
    "\n",
    "for i in range(5):\n",
    "    for j in range(i+1):\n",
    "        print(\"*\",end=\" \")\n",
    "    print()"
   ]
  },
  {
   "cell_type": "code",
   "execution_count": null,
   "metadata": {},
   "outputs": [],
   "source": [
    "while loop:\n",
    "syntax:\n",
    "    initialization\n",
    "    while cond:\n",
    "        ---------\n",
    "        ---------\n",
    "        ---------\n",
    "        increment/decrement\n",
    "        "
   ]
  },
  {
   "cell_type": "code",
   "execution_count": 24,
   "metadata": {},
   "outputs": [
    {
     "name": "stdout",
     "output_type": "stream",
     "text": [
      "1\n",
      "2\n",
      "3\n",
      "4\n",
      "5\n",
      "6\n",
      "7\n",
      "8\n",
      "9\n",
      "10\n",
      "11\n",
      "12\n",
      "13\n",
      "14\n",
      "15\n",
      "16\n",
      "17\n",
      "18\n",
      "19\n",
      "20\n"
     ]
    }
   ],
   "source": [
    "#program to print 1 to 20 \n",
    "i=1\n",
    "while i<=20:\n",
    "    print(i)\n",
    "    i=i+1"
   ]
  },
  {
   "cell_type": "code",
   "execution_count": 25,
   "metadata": {},
   "outputs": [
    {
     "name": "stdout",
     "output_type": "stream",
     "text": [
      "20\n",
      "19\n",
      "18\n",
      "17\n",
      "16\n",
      "15\n",
      "14\n",
      "13\n",
      "12\n",
      "11\n",
      "10\n",
      "9\n",
      "8\n",
      "7\n",
      "6\n",
      "5\n",
      "4\n",
      "3\n",
      "2\n",
      "1\n"
     ]
    }
   ],
   "source": [
    "#program to print 20 to 1 \n",
    "i=20\n",
    "while i>=1:\n",
    "    print(i)\n",
    "    i=i-1"
   ]
  },
  {
   "cell_type": "code",
   "execution_count": 1,
   "metadata": {},
   "outputs": [
    {
     "name": "stdout",
     "output_type": "stream",
     "text": [
      "2\n",
      "4\n",
      "6\n",
      "8\n",
      "10\n",
      "12\n",
      "14\n",
      "16\n",
      "18\n",
      "20\n"
     ]
    }
   ],
   "source": [
    "#program to print even numbers between 1 to 20 \n",
    "i=1\n",
    "while i<=20:\n",
    "    if i%2==0:\n",
    "        print(i)\n",
    "    i=i+1"
   ]
  },
  {
   "cell_type": "code",
   "execution_count": 3,
   "metadata": {},
   "outputs": [
    {
     "name": "stdout",
     "output_type": "stream",
     "text": [
      "Enter amount to draw:350\n",
      "Please enter the amount in 100's combinations only...\n"
     ]
    }
   ],
   "source": [
    "#program to check the amount faults\n",
    "amount=int(input(\"Enter amount to draw:\"))\n",
    "if amount%100==0:\n",
    "    print(\"Your transaction is in process\")\n",
    "else:\n",
    "    print(\"Please enter the amount in 100's combinations only...\")"
   ]
  },
  {
   "cell_type": "code",
   "execution_count": null,
   "metadata": {},
   "outputs": [],
   "source": [
    "Infinite loops in while:\n",
    " while True:\n",
    "    pass"
   ]
  },
  {
   "cell_type": "code",
   "execution_count": null,
   "metadata": {},
   "outputs": [],
   "source": [
    "while False:\n",
    "    pass"
   ]
  },
  {
   "cell_type": "code",
   "execution_count": 3,
   "metadata": {},
   "outputs": [
    {
     "name": "stdout",
     "output_type": "stream",
     "text": [
      "1\n",
      "2\n",
      "3\n",
      "4\n",
      "5\n"
     ]
    }
   ],
   "source": [
    "l=[1,2,3,4,5,6,7,8,9,10]\n",
    "for i in l:\n",
    "    if i==6:\n",
    "        break\n",
    "    print(i)\n",
    "        "
   ]
  },
  {
   "cell_type": "code",
   "execution_count": 2,
   "metadata": {},
   "outputs": [
    {
     "name": "stdout",
     "output_type": "stream",
     "text": [
      " 20\n",
      " +\n",
      " 30\n",
      "50\n"
     ]
    }
   ],
   "source": [
    "#calculator\n",
    "a=int(input(\" \"))\n",
    "x=input(\" \")\n",
    "b=int(input(\" \"))\n",
    "if x=='+':\n",
    "    print(a+b)\n",
    "elif x=='-':\n",
    "    print(a-b)"
   ]
  },
  {
   "cell_type": "code",
   "execution_count": null,
   "metadata": {},
   "outputs": [],
   "source": []
  },
  {
   "cell_type": "code",
   "execution_count": null,
   "metadata": {},
   "outputs": [],
   "source": []
  }
 ],
 "metadata": {
  "kernelspec": {
   "display_name": "Python 3",
   "language": "python",
   "name": "python3"
  },
  "language_info": {
   "codemirror_mode": {
    "name": "ipython",
    "version": 3
   },
   "file_extension": ".py",
   "mimetype": "text/x-python",
   "name": "python",
   "nbconvert_exporter": "python",
   "pygments_lexer": "ipython3",
   "version": "3.7.4"
  }
 },
 "nbformat": 4,
 "nbformat_minor": 4
}
